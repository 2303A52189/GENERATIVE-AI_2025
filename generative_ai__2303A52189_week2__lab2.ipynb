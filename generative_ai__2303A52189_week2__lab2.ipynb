{
  "nbformat": 4,
  "nbformat_minor": 0,
  "metadata": {
    "colab": {
      "provenance": [],
      "authorship_tag": "ABX9TyMdSFuFcB8d2M4mWHAhRKax",
      "include_colab_link": true
    },
    "kernelspec": {
      "name": "python3",
      "display_name": "Python 3"
    },
    "language_info": {
      "name": "python"
    }
  },
  "cells": [
    {
      "cell_type": "markdown",
      "metadata": {
        "id": "view-in-github",
        "colab_type": "text"
      },
      "source": [
        "<a href=\"https://colab.research.google.com/github/2303A52189/GENERATIVE-AI_2025/blob/main/generative_ai__2303A52189_week2__lab2.ipynb\" target=\"_parent\"><img src=\"https://colab.research.google.com/assets/colab-badge.svg\" alt=\"Open In Colab\"/></a>"
      ]
    },
    {
      "cell_type": "markdown",
      "source": [
        "Case Study 1:\n",
        "\n",
        "Consider a chocolate manufacturing company that produces only two types of chocolates, i.e., A and B. Both the chocolates require Milk and Choco only.\n",
        "To manufacture each unit of A and B, the following quantities are required:\n",
        "\n",
        "Each unit of A requires 1 unit of Milk and 3 units of Choco.\n",
        "Each unit of B requires 1 unit of Milk and 2 units of Choco.\n",
        "The company kitchen has a total of 5 units of Milk and 12 units of Choco.\n",
        "On each sale, the company makes a profit of Rs 6 per unit A sold and Rs 5 per unit B sold.\n",
        "\n",
        "Now, the company wishes to maximize its profit. How many units of A and B should it produce respectively?"
      ],
      "metadata": {
        "id": "K6-9JWJfqpMz"
      }
    },
    {
      "cell_type": "code",
      "execution_count": 2,
      "metadata": {
        "colab": {
          "base_uri": "https://localhost:8080/"
        },
        "id": "tlUzq4XYh-K9",
        "outputId": "fc52d7b0-dc4a-4953-c224-484cb01c024f"
      },
      "outputs": [
        {
          "output_type": "stream",
          "name": "stdout",
          "text": [
            "Collecting pulp\n",
            "  Downloading PuLP-2.9.0-py3-none-any.whl.metadata (5.4 kB)\n",
            "Downloading PuLP-2.9.0-py3-none-any.whl (17.7 MB)\n",
            "\u001b[2K   \u001b[90m━━━━━━━━━━━━━━━━━━━━━━━━━━━━━━━━━━━━━━━━\u001b[0m \u001b[32m17.7/17.7 MB\u001b[0m \u001b[31m77.1 MB/s\u001b[0m eta \u001b[36m0:00:00\u001b[0m\n",
            "\u001b[?25hInstalling collected packages: pulp\n",
            "Successfully installed pulp-2.9.0\n",
            "Optimal solution:\n",
            "Units of A to produce: 2.0\n",
            "Units of B to produce: 3.0\n",
            "Maximum profit: Rs. 27.0\n"
          ]
        }
      ],
      "source": [
        "!pip install pulp\n",
        "from pulp import LpMaximize, LpProblem, LpVariable\n",
        "problem = LpProblem(\"Chocolate_Profit_Maximization\", LpMaximize)\n",
        "A = LpVariable(\"Units_of_A\", lowBound=0, cat=\"Continuous\")\n",
        "B = LpVariable(\"Units_of_B\", lowBound=0, cat=\"Continuous\")\n",
        "problem += 6 * A + 5 * B, \"Total_Profit\"\n",
        "problem += A + B <= 5, \"Milk_Constraint\"\n",
        "problem += 3 * A + 2 * B <= 12, \"Choco_Constraint\"\n",
        "problem.solve()\n",
        "print(\"Optimal solution:\")\n",
        "print(f\"Units of A to produce: {A.varValue}\")\n",
        "print(f\"Units of B to produce: {B.varValue}\")\n",
        "print(f\"Maximum profit: Rs. {problem.objective.value()}\")"
      ]
    },
    {
      "cell_type": "markdown",
      "source": [
        "Case Study 2:\n",
        "\n",
        "A farmer has recently acquired a 110 hectares piece of land. He has decided to grow Wheat and Barley on that land. Due to the quality of the sun and the region's excellent climate, the entire production of Wheat and Barley can be sold. He wants to know how to plant each variety in the 110 hectares, given the costs, net profits, and labor requirements according to the data shown below:\n",
        "\n",
        "Crop      \tCost (Rs/Hec) \tProfit (Price/Hec) \tMan-days/Hec\n",
        "\n",
        "Wheat   \t7000              \t50\t            10\n",
        "\n",
        "Barley   \t2000               \t120\t            30\n",
        "\n",
        "The farmer has a budget of Rs. 7,00,000 and availability of 1,200 man-days during the planning horizon. Find the optimal solution and the optimal value."
      ],
      "metadata": {
        "id": "J893sD4Cq34W"
      }
    },
    {
      "cell_type": "code",
      "source": [
        "from pulp import LpMaximize, LpProblem, LpVariable\n",
        "problem = LpProblem(\"Farm_Optimization\", LpMaximize)\n",
        "Wheat = LpVariable(\"Hectares_of_Wheat\", lowBound=0, cat=\"Continuous\")\n",
        "Barley = LpVariable(\"Hectares_of_Barley\", lowBound=0, cat=\"Continuous\")\n",
        "problem += 50 * Wheat + 120 * Barley, \"Total_Profit\"\n",
        "problem += 7000 * Wheat + 2000 * Barley <= 700000, \"Budget_Constraint\"\n",
        "problem += 10 * Wheat + 30 * Barley <= 1200, \"Man_Days_Constraint\"\n",
        "problem += Wheat + Barley <= 110, \"Land_Constraint\"\n",
        "problem.solve()\n",
        "print(\"Optimal solution:\")\n",
        "print(f\"Hectares of Wheat to plant: {Wheat.varValue}\")\n",
        "print(f\"Hectares of Barley to plant: {Barley.varValue}\")\n",
        "print(f\"Maximum profit: Rs. {problem.objective.value()}\")"
      ],
      "metadata": {
        "colab": {
          "base_uri": "https://localhost:8080/"
        },
        "id": "fhUeiQvCkH57",
        "outputId": "96584299-bb00-4780-a31c-f2bc73b9d2cf"
      },
      "execution_count": 4,
      "outputs": [
        {
          "output_type": "stream",
          "name": "stdout",
          "text": [
            "Optimal solution:\n",
            "Hectares of Wheat to plant: 97.894737\n",
            "Hectares of Barley to plant: 7.3684211\n",
            "Maximum profit: Rs. 5778.947382\n"
          ]
        }
      ]
    }
  ]
}